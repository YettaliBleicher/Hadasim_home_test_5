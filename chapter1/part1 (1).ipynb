{
 "cells": [
  {
   "cell_type": "code",
   "execution_count": 41,
   "metadata": {},
   "outputs": [],
   "source": [
    "import pandas as pd\n",
    "import glob\n",
    "import csv\n",
    "from collections import Counter\n",
    "\n",
    "def convert_excel_to_csv(input_file, output_file):\n",
    "    df = pd.read_excel(input_file, engine='openpyxl')  \n",
    "    df.to_csv(output_file, index=False, encoding='utf-8') \n",
    "\n",
    "convert_excel_to_csv(\"logs.txt.xlsx\", \"logs.csv\")\n",
    "                \n",
    "        "
   ]
  },
  {
   "cell_type": "code",
   "execution_count": 42,
   "metadata": {},
   "outputs": [
    {
     "name": "stdout",
     "output_type": "stream",
     "text": [
      "הקובץ פוצל בהצלחה ל-10 חלקים!\n"
     ]
    }
   ],
   "source": [
    "def split_csv_data(input_file, num_of_rows=100000, name_of_split_file=\"split_file_\"):\n",
    "    chunk_counter = 1\n",
    "\n",
    "    for chunk in pd.read_csv(input_file, chunksize=num_of_rows, encoding='utf-8'):\n",
    "        chunk.to_csv(f\"{name_of_split_file}{chunk_counter}.csv\", index=False, encoding=\"utf-8\")\n",
    "        chunk_counter += 1\n",
    "\n",
    "    print(f\"הקובץ פוצל בהצלחה ל-{chunk_counter-1} חלקים!\")\n",
    "\n",
    "split_csv_data(\"logs.csv\", 100000, \"split\")\n",
    "\n"
   ]
  },
  {
   "cell_type": "code",
   "execution_count": 48,
   "metadata": {},
   "outputs": [
    {
     "name": "stdout",
     "output_type": "stream",
     "text": [
      "שמירת התוצאה הסתיימה עבור split1.csv -> split1.csv_errors.csv\n",
      "common [('ERR_404', 20207)]\n",
      "שמירת התוצאה הסתיימה עבור split2.csv -> split2.csv_errors.csv\n",
      "common [('ERR_404', 20110)]\n"
     ]
    }
   ],
   "source": [
    "#פונקציה המחשבת שכיחויות לכל חלק בנפרד.\n",
    "\n",
    "def count_errors_in_chunk(chunk_file):\n",
    "    error_counter = Counter()\n",
    "\n",
    "    with open(chunk_file, 'r', encoding='utf-8') as file:\n",
    "        for line in file:\n",
    "            error_code = line.strip().split()[4]\n",
    "            error_code = error_code.replace('\"',\"\")\n",
    "            error_counter[error_code] += 1\n",
    "\n",
    "    output_file = f\"{chunk_file}_errors.csv\"\n",
    "\n",
    "    with open(f\"{chunk_file}_errors.csv\", 'w', newline='', encoding='utf-8') as csvfile:\n",
    "        writer = csv.writer(csvfile)\n",
    "        writer.writerow([\"Error_Code\", \"Count\"])\n",
    "        writer.writerows(error_counter.items())\n",
    "\n",
    "    print(f\"שמירת התוצאה הסתיימה עבור {chunk_file} -> {output_file}\")\n",
    "    print(f\"common {error_counter.most_common(1)}\")\n",
    "\n",
    "count_errors_in_chunk('split1.csv')\n",
    "count_errors_in_chunk('split2.csv')\n"
   ]
  },
  {
   "cell_type": "code",
   "execution_count": 81,
   "metadata": {},
   "outputs": [
    {
     "data": {
      "text/html": [
       "<div>\n",
       "<style scoped>\n",
       "    .dataframe tbody tr th:only-of-type {\n",
       "        vertical-align: middle;\n",
       "    }\n",
       "\n",
       "    .dataframe tbody tr th {\n",
       "        vertical-align: top;\n",
       "    }\n",
       "\n",
       "    .dataframe thead th {\n",
       "        text-align: right;\n",
       "    }\n",
       "</style>\n",
       "<table border=\"1\" class=\"dataframe\">\n",
       "  <thead>\n",
       "    <tr style=\"text-align: right;\">\n",
       "      <th></th>\n",
       "      <th>Error_Code</th>\n",
       "      <th>Count</th>\n",
       "    </tr>\n",
       "  </thead>\n",
       "  <tbody>\n",
       "    <tr>\n",
       "      <th>0</th>\n",
       "      <td>ERR_400</td>\n",
       "      <td>19992</td>\n",
       "    </tr>\n",
       "    <tr>\n",
       "      <th>1</th>\n",
       "      <td>ERR_500</td>\n",
       "      <td>19816</td>\n",
       "    </tr>\n",
       "    <tr>\n",
       "      <th>2</th>\n",
       "      <td>INFO_200</td>\n",
       "      <td>19927</td>\n",
       "    </tr>\n",
       "    <tr>\n",
       "      <th>3</th>\n",
       "      <td>WARN_101</td>\n",
       "      <td>20059</td>\n",
       "    </tr>\n",
       "    <tr>\n",
       "      <th>4</th>\n",
       "      <td>ERR_404</td>\n",
       "      <td>20207</td>\n",
       "    </tr>\n",
       "  </tbody>\n",
       "</table>\n",
       "</div>"
      ],
      "text/plain": [
       "  Error_Code  Count\n",
       "0    ERR_400  19992\n",
       "1    ERR_500  19816\n",
       "2   INFO_200  19927\n",
       "3   WARN_101  20059\n",
       "4    ERR_404  20207"
      ]
     },
     "execution_count": 81,
     "metadata": {},
     "output_type": "execute_result"
    }
   ],
   "source": [
    "df=pd.read_csv(\"split1.csv_errors.csv\")\n",
    "df"
   ]
  },
  {
   "cell_type": "code",
   "execution_count": 82,
   "metadata": {},
   "outputs": [
    {
     "data": {
      "text/plain": [
       "['split1.csv_errors.csv', 'split2.csv_errors.csv']"
      ]
     },
     "execution_count": 82,
     "metadata": {},
     "output_type": "execute_result"
    }
   ],
   "source": [
    "#הכנסה למערך את כל המצביעים לקבצים המחולקים\n",
    "errors_csv = glob.glob(\"split*.csv_errors.csv\") \n",
    "errors_csv"
   ]
  },
  {
   "cell_type": "code",
   "execution_count": 84,
   "metadata": {},
   "outputs": [
    {
     "data": {
      "text/html": [
       "<div>\n",
       "<style scoped>\n",
       "    .dataframe tbody tr th:only-of-type {\n",
       "        vertical-align: middle;\n",
       "    }\n",
       "\n",
       "    .dataframe tbody tr th {\n",
       "        vertical-align: top;\n",
       "    }\n",
       "\n",
       "    .dataframe thead th {\n",
       "        text-align: right;\n",
       "    }\n",
       "</style>\n",
       "<table border=\"1\" class=\"dataframe\">\n",
       "  <thead>\n",
       "    <tr style=\"text-align: right;\">\n",
       "      <th></th>\n",
       "      <th>ERR_400</th>\n",
       "      <th>ERR_500</th>\n",
       "      <th>WARN_101</th>\n",
       "      <th>ERR_404</th>\n",
       "    </tr>\n",
       "  </thead>\n",
       "  <tbody>\n",
       "  </tbody>\n",
       "</table>\n",
       "</div>"
      ],
      "text/plain": [
       "Empty DataFrame\n",
       "Columns: [ERR_400, ERR_500, WARN_101, ERR_404]\n",
       "Index: []"
      ]
     },
     "execution_count": 84,
     "metadata": {},
     "output_type": "execute_result"
    }
   ],
   "source": [
    "errors = ['ERR_400', 'ERR_500', 'WARN_101', 'ERR_404']\n",
    "new_df = pd.DataFrame(columns=errors)\n",
    "\n",
    "new_df"
   ]
  },
  {
   "cell_type": "code",
   "execution_count": 101,
   "metadata": {},
   "outputs": [
    {
     "data": {
      "text/html": [
       "<div>\n",
       "<style scoped>\n",
       "    .dataframe tbody tr th:only-of-type {\n",
       "        vertical-align: middle;\n",
       "    }\n",
       "\n",
       "    .dataframe tbody tr th {\n",
       "        vertical-align: top;\n",
       "    }\n",
       "\n",
       "    .dataframe thead th {\n",
       "        text-align: right;\n",
       "    }\n",
       "</style>\n",
       "<table border=\"1\" class=\"dataframe\">\n",
       "  <thead>\n",
       "    <tr style=\"text-align: right;\">\n",
       "      <th></th>\n",
       "      <th>ERR_400</th>\n",
       "      <th>ERR_500</th>\n",
       "      <th>WARN_101</th>\n",
       "      <th>ERR_404</th>\n",
       "    </tr>\n",
       "  </thead>\n",
       "  <tbody>\n",
       "    <tr>\n",
       "      <th>0</th>\n",
       "      <td>39698</td>\n",
       "      <td>39834</td>\n",
       "      <td>40139</td>\n",
       "      <td>40317</td>\n",
       "    </tr>\n",
       "  </tbody>\n",
       "</table>\n",
       "</div>"
      ],
      "text/plain": [
       "   ERR_400  ERR_500  WARN_101  ERR_404\n",
       "0    39698    39834     40139    40317"
      ]
     },
     "execution_count": 101,
     "metadata": {},
     "output_type": "execute_result"
    }
   ],
   "source": [
    "def build_file_of_error_with_freq(arr_of_error_files, dest_file):\n",
    "    if dest_file.empty:\n",
    "        dest_file = pd.DataFrame([[0] * len(dest_file.columns)], columns=dest_file.columns)\n",
    "    for file_name in arr_of_error_files:\n",
    "        try:\n",
    "            with open(file_name, 'r', newline='', encoding='utf-8') as file:\n",
    "                for line in file:\n",
    "                    error_code = line.split(',')[0]\n",
    "                    count = line.split(',')[1]\n",
    "                    if error_code in dest_file.columns:\n",
    "                        dest_file.loc[0,error_code] += int(count)\n",
    "                    \n",
    "        except FileNotFoundError:\n",
    "            print(f\"שגיאה: הקובץ {file_name} לא נמצא.\")\n",
    "        except OSError as e:\n",
    "            print(f\"שגיאת מערכת בקובץ {file_name}: {e}\")\n",
    "    return dest_file\n",
    "\n",
    "\n",
    "updated_df = build_file_of_error_with_freq(errors_csv, new_df)\n",
    "\n",
    "updated_df.to_csv(\"all_errors_with_frequency.csv\", index=False, encoding='utf-8')\n",
    "df= pd.read_csv(\"all_errors_with_frequency.csv\")\n",
    "df"
   ]
  },
  {
   "cell_type": "code",
   "execution_count": 1,
   "metadata": {},
   "outputs": [
    {
     "ename": "NameError",
     "evalue": "name 'Counter' is not defined",
     "output_type": "error",
     "traceback": [
      "\u001b[1;31m---------------------------------------------------------------------------\u001b[0m",
      "\u001b[1;31mNameError\u001b[0m                                 Traceback (most recent call last)",
      "\u001b[1;32m<ipython-input-1-bcc0050b18f8>\u001b[0m in \u001b[0;36m<module>\u001b[1;34m\u001b[0m\n\u001b[1;32m----> 1\u001b[1;33m \u001b[0mcnt\u001b[0m \u001b[1;33m=\u001b[0m \u001b[0mCounter\u001b[0m\u001b[1;33m(\u001b[0m\u001b[1;33m)\u001b[0m\u001b[1;33m\u001b[0m\u001b[1;33m\u001b[0m\u001b[0m\n\u001b[0m\u001b[0;32m      2\u001b[0m \u001b[1;32mfor\u001b[0m \u001b[0merror\u001b[0m \u001b[1;32min\u001b[0m \u001b[0mupdated_df\u001b[0m\u001b[1;33m.\u001b[0m\u001b[0mcolumns\u001b[0m\u001b[1;33m(\u001b[0m\u001b[1;33m)\u001b[0m\u001b[1;33m:\u001b[0m\u001b[1;33m\u001b[0m\u001b[1;33m\u001b[0m\u001b[0m\n\u001b[0;32m      3\u001b[0m     \u001b[0mcnt\u001b[0m\u001b[1;33m[\u001b[0m\u001b[0merror\u001b[0m\u001b[1;33m]\u001b[0m \u001b[1;33m+=\u001b[0m \u001b[0mupdated_df\u001b[0m\u001b[1;33m.\u001b[0m\u001b[0mloc\u001b[0m\u001b[1;33m[\u001b[0m\u001b[1;36m0\u001b[0m\u001b[1;33m,\u001b[0m \u001b[0merror\u001b[0m\u001b[1;33m]\u001b[0m\u001b[1;33m\u001b[0m\u001b[1;33m\u001b[0m\u001b[0m\n",
      "\u001b[1;31mNameError\u001b[0m: name 'Counter' is not defined"
     ]
    }
   ],
   "source": [
    "cnt = Counter()\n",
    "for error in updated_df.columns():\n",
    "    cnt[error] += updated_df.loc[0, error]"
   ]
  },
  {
   "cell_type": "code",
   "execution_count": 104,
   "metadata": {},
   "outputs": [
    {
     "ename": "TypeError",
     "evalue": "'Index' object is not callable",
     "output_type": "error",
     "traceback": [
      "\u001b[1;31m---------------------------------------------------------------------------\u001b[0m",
      "\u001b[1;31mTypeError\u001b[0m                                 Traceback (most recent call last)",
      "\u001b[1;32m<ipython-input-104-dff7613dfe00>\u001b[0m in \u001b[0;36m<module>\u001b[1;34m\u001b[0m\n\u001b[1;32m----> 1\u001b[1;33m \u001b[0mupdated_df\u001b[0m\u001b[1;33m.\u001b[0m\u001b[0mcolumns\u001b[0m\u001b[1;33m(\u001b[0m\u001b[1;33m)\u001b[0m\u001b[1;33m\u001b[0m\u001b[1;33m\u001b[0m\u001b[0m\n\u001b[0m",
      "\u001b[1;31mTypeError\u001b[0m: 'Index' object is not callable"
     ]
    }
   ],
   "source": [
    "updated_df.columns()"
   ]
  },
  {
   "cell_type": "code",
   "execution_count": null,
   "metadata": {},
   "outputs": [],
   "source": []
  }
 ],
 "metadata": {
  "kernelspec": {
   "display_name": "Python 3",
   "language": "python",
   "name": "python3"
  },
  "language_info": {
   "codemirror_mode": {
    "name": "ipython",
    "version": 3
   },
   "file_extension": ".py",
   "mimetype": "text/x-python",
   "name": "python",
   "nbconvert_exporter": "python",
   "pygments_lexer": "ipython3",
   "version": "3.8.5"
  }
 },
 "nbformat": 4,
 "nbformat_minor": 4
}
